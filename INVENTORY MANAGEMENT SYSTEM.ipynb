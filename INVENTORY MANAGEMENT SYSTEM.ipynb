{
 "cells": [
  {
   "cell_type": "code",
   "execution_count": 1,
   "id": "7d46c053",
   "metadata": {},
   "outputs": [],
   "source": [
    "import tkinter as tk\n",
    "from tkinter import messagebox, simpledialog, ttk\n",
    "import json\n",
    "import os"
   ]
  },
  {
   "cell_type": "code",
   "execution_count": 2,
   "id": "51d2d0e3",
   "metadata": {},
   "outputs": [],
   "source": [
    "# Constants for file paths\n",
    "INVENTORY_FILE = \"inventory.json\"\n",
    "USER_FILE = \"users.json\""
   ]
  },
  {
   "cell_type": "code",
   "execution_count": 3,
   "id": "f87458fa-f153-4c71-aa12-599f16ec0fb8",
   "metadata": {},
   "outputs": [],
   "source": [
    "# Initialize user file if it doesn't exist\n",
    "if not os.path.exists(USER_FILE):\n",
    "    with open(USER_FILE, 'w') as f:\n",
    "        json.dump({}, f)"
   ]
  },
  {
   "cell_type": "code",
   "execution_count": 4,
   "id": "7f9a295b-92f4-4dd8-ab0c-6b06ef977e0b",
   "metadata": {},
   "outputs": [],
   "source": [
    "\n",
    "def authenticate_user(username, password):\n",
    "    try:\n",
    "        with open(USER_FILE, 'r') as f:\n",
    "            users = json.load(f)\n",
    "    except FileNotFoundError:\n",
    "        return False\n",
    "\n",
    "    return users.get(username) == password"
   ]
  },
  {
   "cell_type": "code",
   "execution_count": 5,
   "id": "d2cccc85-fe16-4e15-aff8-472e2a3c6b6f",
   "metadata": {},
   "outputs": [],
   "source": [
    "\n",
    "def create_user(username, password):\n",
    "    try:\n",
    "        with open(USER_FILE, 'r') as f:\n",
    "            users = json.load(f)\n",
    "    except FileNotFoundError:\n",
    "        users = {}\n",
    "\n",
    "    if username in users:\n",
    "        return False\n",
    "\n",
    "    users[username] = password\n",
    "    with open(USER_FILE, 'w') as f:\n",
    "        json.dump(users, f)\n",
    "    \n",
    "    return True"
   ]
  },
  {
   "cell_type": "code",
   "execution_count": 6,
   "id": "c7a5a7c1-bd48-42a5-b89f-a4bca03f20f0",
   "metadata": {},
   "outputs": [],
   "source": [
    "\n",
    "def save_inventory(inventory):\n",
    "    with open(INVENTORY_FILE, 'w') as f:\n",
    "        json.dump(inventory, f)"
   ]
  },
  {
   "cell_type": "code",
   "execution_count": 7,
   "id": "272097da-cc1f-49b5-81d9-6dad62a0cc0b",
   "metadata": {},
   "outputs": [],
   "source": [
    "def load_inventory():\n",
    "    try:\n",
    "        with open(INVENTORY_FILE, 'r') as f:\n",
    "            return json.load(f)\n",
    "    except FileNotFoundError:\n",
    "        return {}"
   ]
  },
  {
   "cell_type": "code",
   "execution_count": 8,
   "id": "9c59d1d1-d928-4190-85e3-8583ba93ae6d",
   "metadata": {},
   "outputs": [],
   "source": [
    "\n",
    "class InventoryApp(tk.Tk):\n",
    "    def __init__(self):\n",
    "        super().__init__()\n",
    "        self.title(\"Inventory Management System\")\n",
    "        self.geometry(\"600x400\")\n",
    "        \n",
    "        self.inventory = load_inventory()\n",
    "        self.setup_gui()\n",
    "\n",
    "    def setup_gui(self):\n",
    "        menubar = tk.Menu(self)\n",
    "        self.config(menu=menubar)\n",
    "        file_menu = tk.Menu(menubar, tearoff=0)\n",
    "        menubar.add_cascade(label=\"File\", menu=file_menu)\n",
    "        file_menu.add_command(label=\"Add Product\", command=self.add_product)\n",
    "        file_menu.add_command(label=\"Edit Product\", command=self.edit_product)\n",
    "        file_menu.add_command(label=\"Delete Product\", command=self.delete_product)\n",
    "        file_menu.add_command(label=\"Generate Report\", command=self.generate_report)\n",
    "        file_menu.add_separator()\n",
    "        file_menu.add_command(label=\"Exit\", command=self.quit)\n",
    "\n",
    "        self.product_listbox = tk.Listbox(self, width=80)\n",
    "        self.product_listbox.pack(pady=10)\n",
    "        self.update_product_listbox()\n",
    "\n",
    "    def update_product_listbox(self):\n",
    "        self.product_listbox.delete(0, tk.END)\n",
    "        for product, info in self.inventory.items():\n",
    "            self.product_listbox.insert(tk.END, f\"{product}: {info['quantity']} in stock\")\n",
    "\n",
    "    def add_product(self):\n",
    "        product_name = simpledialog.askstring(\"Add Product\", \"Enter product name:\")\n",
    "        if product_name:\n",
    "            quantity = simpledialog.askinteger(\"Add Product\", \"Enter quantity:\")\n",
    "            if quantity is not None:\n",
    "                self.inventory[product_name] = {'quantity': quantity}\n",
    "                save_inventory(self.inventory)\n",
    "                self.update_product_listbox()\n",
    "\n",
    "    def edit_product(self):\n",
    "        selected_product = self.product_listbox.get(tk.ACTIVE).split(':')[0]\n",
    "        if selected_product:\n",
    "            new_quantity = simpledialog.askinteger(\"Edit Product\", f\"Enter new quantity for {selected_product}:\")\n",
    "            if new_quantity is not None:\n",
    "                if selected_product in self.inventory:\n",
    "                    self.inventory[selected_product]['quantity'] = new_quantity\n",
    "                    save_inventory(self.inventory)\n",
    "                    self.update_product_listbox()\n",
    "\n",
    "    def delete_product(self):\n",
    "        selected_product = self.product_listbox.get(tk.ACTIVE).split(':')[0]\n",
    "        if selected_product:\n",
    "            del self.inventory[selected_product]\n",
    "            save_inventory(self.inventory)\n",
    "            self.update_product_listbox()\n",
    "\n",
    "    def generate_report(self):\n",
    "        low_stock_items = [f\"{product}: {info['quantity']} in stock\"\n",
    "                           for product, info in self.inventory.items() if info['quantity'] < 5]\n",
    "        report = \"\\n\".join(low_stock_items) if low_stock_items else \"No low stock items.\"\n",
    "        messagebox.showinfo(\"Low Stock Report\", report)"
   ]
  },
  {
   "cell_type": "code",
   "execution_count": 9,
   "id": "f4520213-eea4-441e-9e22-24eacb735121",
   "metadata": {},
   "outputs": [],
   "source": [
    "\n",
    "def login():\n",
    "    username = simpledialog.askstring(\"Login\", \"Enter username:\")\n",
    "    password = simpledialog.askstring(\"Login\", \"Enter password:\", show='*')\n",
    "    if authenticate_user(username, password):\n",
    "        app = InventoryApp()\n",
    "        app.mainloop()\n",
    "    else:\n",
    "        if messagebox.askyesno(\"Login Failed\", \"Invalid username or password. Do you want to create a new account?\"):\n",
    "            create_account()"
   ]
  },
  {
   "cell_type": "code",
   "execution_count": 10,
   "id": "0c63c6b8-feda-413f-8278-bb3d040039a9",
   "metadata": {},
   "outputs": [],
   "source": [
    "\n",
    "def create_account():\n",
    "    username = simpledialog.askstring(\"Create Account\", \"Enter new username:\")\n",
    "    password = simpledialog.askstring(\"Create Account\", \"Enter new password:\", show='*')\n",
    "    if username and password:\n",
    "        if create_user(username, password):\n",
    "            messagebox.showinfo(\"Account Created\", \"Account successfully created. Please log in.\")\n",
    "        else:\n",
    "            messagebox.showerror(\"Account Creation Failed\", \"Username already exists or error occurred.\")"
   ]
  },
  {
   "cell_type": "code",
   "execution_count": 11,
   "id": "f1a4dfab-f307-4d94-912e-6d416e34e9ad",
   "metadata": {},
   "outputs": [],
   "source": [
    "if __name__ == \"__main__\":\n",
    "    login()"
   ]
  }
 ],
 "metadata": {
  "kernelspec": {
   "display_name": "Python 3 (ipykernel)",
   "language": "python",
   "name": "python3"
  },
  "language_info": {
   "codemirror_mode": {
    "name": "ipython",
    "version": 3
   },
   "file_extension": ".py",
   "mimetype": "text/x-python",
   "name": "python",
   "nbconvert_exporter": "python",
   "pygments_lexer": "ipython3",
   "version": "3.12.4"
  }
 },
 "nbformat": 4,
 "nbformat_minor": 5
}
